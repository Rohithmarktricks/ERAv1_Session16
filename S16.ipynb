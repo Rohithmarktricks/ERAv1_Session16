{
 "cells": [
  {
   "cell_type": "markdown",
   "metadata": {},
   "source": [
    "### Read the Config file from config.py"
   ]
  },
  {
   "cell_type": "code",
   "execution_count": 1,
   "metadata": {
    "ExecuteTime": {
     "end_time": "2023-08-31T18:31:59.132770451Z",
     "start_time": "2023-08-31T18:31:56.195052541Z"
    },
    "colab": {
     "base_uri": "https://localhost:8080/",
     "height": 470
    },
    "execution": {
     "iopub.execute_input": "2023-08-15T11:32:10.059219Z",
     "iopub.status.busy": "2023-08-15T11:32:10.058548Z",
     "iopub.status.idle": "2023-08-15T11:32:10.065799Z",
     "shell.execute_reply": "2023-08-15T11:32:10.064511Z",
     "shell.execute_reply.started": "2023-08-15T11:32:10.059186Z"
    },
    "id": "x8WpKATx75Hu",
    "outputId": "53c19e59-1a97-4dc0-a2d7-2d31e3809f2f"
   },
   "outputs": [],
   "source": [
    "import torch\n",
    "import torch.nn as nn\n",
    "from torch.optim.lr_scheduler import OneCycleLR\n",
    "from transformers_lightning.config import get_config\n",
    "from transformers_lightning.lightning_dataset import BilingualLightning\n",
    "from transformers_lightning.lightning_model import TransformerLightning\n",
    "from transformers_lightning.lightning_train import train_transformer"
   ]
  },
  {
   "cell_type": "markdown",
   "metadata": {},
   "source": [
    "### Edit the config file to accomodate the batch_size on available GPU machine"
   ]
  },
  {
   "cell_type": "code",
   "execution_count": 2,
   "metadata": {},
   "outputs": [],
   "source": [
    "from transformers_lightning.config import get_config\n"
   ]
  },
  {
   "cell_type": "code",
   "execution_count": 3,
   "metadata": {},
   "outputs": [],
   "source": [
    "cfg = get_config()"
   ]
  },
  {
   "cell_type": "code",
   "execution_count": 4,
   "metadata": {},
   "outputs": [
    {
     "data": {
      "text/plain": [
       "{'parameter_sharing': False,\n",
       " 'd_ff': 2048,\n",
       " 'batch_size': 32,\n",
       " 'num_epochs': 30,\n",
       " 'lr': 0.0001,\n",
       " 'seq_len': 160,\n",
       " 'd_model': 512,\n",
       " 'lang_src': 'en',\n",
       " 'lang_tgt': 'fr',\n",
       " 'model_folder': 'weights',\n",
       " 'model_basename': 'tmodel_',\n",
       " 'preload': True,\n",
       " 'tokenizer_file': 'tokenizer_{0}.json',\n",
       " 'rundir': 'runs',\n",
       " 'experiment_name': 'tmodel_dynamic_padding',\n",
       " 'ds_mode': 'Online',\n",
       " 'ds_path': None,\n",
       " 'ds_name': 'opus_books',\n",
       " 'save_ds_to_disk': True}"
      ]
     },
     "execution_count": 4,
     "metadata": {},
     "output_type": "execute_result"
    }
   ],
   "source": [
    "cfg"
   ]
  },
  {
   "cell_type": "code",
   "execution_count": 5,
   "metadata": {},
   "outputs": [],
   "source": [
    "cfg['parameter_sharing'] = True\n",
    "cfg['d_ff'] = 1024\n",
    "cfg['batch_size'] = 16\n",
    "cfg['d_model'] = 512\n",
    "cfg['preload'] = None\n",
    "cfg['num_epochs'] = 40\n",
    "cfg['ds_mode'] = 'Online'\n",
    "cfg['lang_tgt'] = 'fr'\n",
    "cfg['save_ds_to_disk'] = False\n",
    "cfg['experiment_name'] = f\"tmodel_dynamic_pad_150_tokens_batch_{cfg['batch_size']}_amp_dff{cfg['d_ff']}\""
   ]
  },
  {
   "cell_type": "code",
   "execution_count": 6,
   "metadata": {},
   "outputs": [
    {
     "data": {
      "text/plain": [
       "{'parameter_sharing': True,\n",
       " 'd_ff': 1024,\n",
       " 'batch_size': 16,\n",
       " 'num_epochs': 40,\n",
       " 'lr': 0.0001,\n",
       " 'seq_len': 160,\n",
       " 'd_model': 512,\n",
       " 'lang_src': 'en',\n",
       " 'lang_tgt': 'fr',\n",
       " 'model_folder': 'weights',\n",
       " 'model_basename': 'tmodel_',\n",
       " 'preload': None,\n",
       " 'tokenizer_file': 'tokenizer_{0}.json',\n",
       " 'rundir': 'runs',\n",
       " 'experiment_name': 'tmodel_dynamic_pad_150_tokens_batch_16_amp_dff1024',\n",
       " 'ds_mode': 'Online',\n",
       " 'ds_path': None,\n",
       " 'ds_name': 'opus_books',\n",
       " 'save_ds_to_disk': False}"
      ]
     },
     "execution_count": 6,
     "metadata": {},
     "output_type": "execute_result"
    }
   ],
   "source": [
    "# updated config\n",
    "cfg"
   ]
  },
  {
   "cell_type": "markdown",
   "metadata": {},
   "source": [
    "### Enable the Mixed Precision Training"
   ]
  },
  {
   "cell_type": "code",
   "execution_count": 7,
   "metadata": {},
   "outputs": [
    {
     "data": {
      "text/plain": [
       "<torch.cuda.amp.autocast_mode.autocast at 0x2214ee6b130>"
      ]
     },
     "execution_count": 7,
     "metadata": {},
     "output_type": "execute_result"
    }
   ],
   "source": [
    "torch.cuda.amp.autocast(enabled=True)"
   ]
  },
  {
   "cell_type": "code",
   "execution_count": 8,
   "metadata": {},
   "outputs": [],
   "source": [
    "torch.set_float32_matmul_precision('medium')"
   ]
  },
  {
   "cell_type": "markdown",
   "metadata": {},
   "source": [
    "### Train the model"
   ]
  },
  {
   "cell_type": "code",
   "execution_count": 9,
   "metadata": {
    "ExecuteTime": {
     "end_time": "2023-08-31T20:17:41.526169136Z",
     "start_time": "2023-08-31T18:32:02.556306119Z"
    }
   },
   "outputs": [],
   "source": [
    "opus_fr = BilingualLightning(cfg)\n",
    "opus_fr.prepare_data()\n",
    "opus_fr.setup()\n",
    "train_data_loader = opus_fr.train_dataloader()"
   ]
  },
  {
   "cell_type": "code",
   "execution_count": 10,
   "metadata": {},
   "outputs": [
    {
     "name": "stdout",
     "output_type": "stream",
     "text": [
      "Total Parameters: 61847890\n"
     ]
    }
   ],
   "source": [
    "tokenizer_src = opus_fr.tokenizer_src\n",
    "tokenizer_tgt = opus_fr.tokenizer_tgt\n",
    "loss_criterion = nn.CrossEntropyLoss(ignore_index=tokenizer_src.token_to_id('[PAD]'), label_smoothing=0.1)\n",
    "transformer_model = TransformerLightning(cfg, loss_criterion, tokenizer_src, tokenizer_tgt, num_validation_examples=2, epochs = cfg['num_epochs'])\n",
    "optimizer = torch.optim.Adam(transformer_model.model.parameters(), lr=cfg['lr'], eps=1e-9)\n",
    "transformer_model.set_optimizer(optimizer)\n",
    "\n",
    "scheduler = OneCycleLR(\n",
    "    optimizer,\n",
    "    max_lr=1E-3,\n",
    "    steps_per_epoch=len(train_data_loader),\n",
    "    epochs=cfg['num_epochs'],\n",
    "    pct_start=5/cfg['num_epochs'],\n",
    "    div_factor=10,\n",
    "    three_phase=True,\n",
    "    final_div_factor=10,\n",
    "    anneal_strategy='linear'\n",
    ")\n",
    "transformer_model.set_scheduler_dict(scheduler, freq = 'step')"
   ]
  },
  {
   "cell_type": "code",
   "execution_count": 11,
   "metadata": {},
   "outputs": [
    {
     "name": "stderr",
     "output_type": "stream",
     "text": [
      "C:\\Users\\rohit\\anaconda3\\envs\\tf\\lib\\site-packages\\lightning_fabric\\connector.py:555: UserWarning: 16 is supported for historical reasons but its usage is discouraged. Please set your precision to 16-mixed instead!\n",
      "  rank_zero_warn(\n",
      "Using 16bit Automatic Mixed Precision (AMP)\n",
      "GPU available: True (cuda), used: True\n",
      "TPU available: False, using: 0 TPU cores\n",
      "IPU available: False, using: 0 IPUs\n",
      "HPU available: False, using: 0 HPUs\n",
      "LOCAL_RANK: 0 - CUDA_VISIBLE_DEVICES: [0]\n",
      "\n",
      "  | Name           | Type             | Params\n",
      "----------------------------------------------------\n",
      "0 | loss_criterion | CrossEntropyLoss | 0     \n",
      "1 | model          | Transformer      | 61.8 M\n",
      "----------------------------------------------------\n",
      "61.8 M    Trainable params\n",
      "0         Non-trainable params\n",
      "61.8 M    Total params\n",
      "247.392   Total estimated model params size (MB)\n",
      "C:\\Users\\rohit\\anaconda3\\envs\\tf\\lib\\site-packages\\pytorch_lightning\\trainer\\connectors\\data_connector.py:432: PossibleUserWarning: The dataloader, train_dataloader, does not have many workers which may be a bottleneck. Consider increasing the value of the `num_workers` argument` (try 12 which is the number of cpus on this machine) in the `DataLoader` init to improve performance.\n",
      "  rank_zero_warn(\n",
      "C:\\Users\\rohit\\anaconda3\\envs\\tf\\lib\\site-packages\\pytorch_lightning\\trainer\\connectors\\data_connector.py:480: PossibleUserWarning: Your `val_dataloader`'s sampler has shuffling enabled, it is strongly recommended that you turn shuffling off for val/test dataloaders.\n",
      "  rank_zero_warn(\n",
      "C:\\Users\\rohit\\anaconda3\\envs\\tf\\lib\\site-packages\\pytorch_lightning\\trainer\\connectors\\data_connector.py:432: PossibleUserWarning: The dataloader, val_dataloader, does not have many workers which may be a bottleneck. Consider increasing the value of the `num_workers` argument` (try 12 which is the number of cpus on this machine) in the `DataLoader` init to improve performance.\n",
      "  rank_zero_warn(\n"
     ]
    },
    {
     "data": {
      "application/vnd.jupyter.widget-view+json": {
       "model_id": "5fa5aca8b4604e39ac2d16afc473b65c",
       "version_major": 2,
       "version_minor": 0
      },
      "text/plain": [
       "Training: 0it [00:00, ?it/s]"
      ]
     },
     "metadata": {},
     "output_type": "display_data"
    },
    {
     "data": {
      "application/vnd.jupyter.widget-view+json": {
       "model_id": "",
       "version_major": 2,
       "version_minor": 0
      },
      "text/plain": [
       "Validation: 0it [00:00, ?it/s]"
      ]
     },
     "metadata": {},
     "output_type": "display_data"
    },
    {
     "name": "stdout",
     "output_type": "stream",
     "text": [
      "*****************************************\n",
      "    SOURCE: \"Well, monseigneur?\"\n",
      "    TARGET: -- Bien, Monseigneur.\n",
      " PREDICTED: -- Eh bien , monsieur ?\n",
      "*****************************************\n",
      "\n",
      "*****************************************\n",
      "    SOURCE: The boat made its way slowly towards the right shore.\n",
      "    TARGET: Le bateau voguait lentement vers la rive droite.\n",
      " PREDICTED: Le vent se mit à coup , le Lièvre .\n",
      "*****************************************\n",
      "\n",
      "Epoch 0: train_loss=4.0544\n"
     ]
    },
    {
     "data": {
      "application/vnd.jupyter.widget-view+json": {
       "model_id": "",
       "version_major": 2,
       "version_minor": 0
      },
      "text/plain": [
       "Validation: 0it [00:00, ?it/s]"
      ]
     },
     "metadata": {},
     "output_type": "display_data"
    },
    {
     "name": "stdout",
     "output_type": "stream",
     "text": [
      "*****************************************\n",
      "    SOURCE: There was no one there now, but the Flemings and the rabble.\n",
      "    TARGET: Il n’y avait plus que des flamands et de la canaille.\n",
      " PREDICTED: Il n ’ y avait pas maintenant , mais les femmes et les femmes .\n",
      "*****************************************\n",
      "\n",
      "*****************************************\n",
      "    SOURCE: Finally he took his stand in a dark corner of the garden.\n",
      "    TARGET: Enfin il alla se placer dans un coin obscur du jardin.\n",
      " PREDICTED: Enfin il prit sa tête noire du jardin .\n",
      "*****************************************\n",
      "\n",
      "Epoch 1: train_loss=3.7178\n"
     ]
    },
    {
     "data": {
      "application/vnd.jupyter.widget-view+json": {
       "model_id": "",
       "version_major": 2,
       "version_minor": 0
      },
      "text/plain": [
       "Validation: 0it [00:00, ?it/s]"
      ]
     },
     "metadata": {},
     "output_type": "display_data"
    },
    {
     "name": "stdout",
     "output_type": "stream",
     "text": [
      "*****************************************\n",
      "    SOURCE: What hatred she distills!\n",
      "    TARGET: Que de haine elle distille!\n",
      " PREDICTED: Quelle haine !\n",
      "*****************************************\n",
      "\n",
      "*****************************************\n",
      "    SOURCE: He took his meals in the kitchen alone, opposite the fire, on a little table brought to him all ready laid as on the stage.\n",
      "    TARGET: Il prenait ses repas dans la cuisine, seul, en face du feu, sur une petite table qu’on lui apportait toute servie, comme au théâtre.\n",
      " PREDICTED: Il prit ses repas dans la cuisine , seul , en face du feu , sur une petite table qui lui donnait tout droit à la scène .\n",
      "*****************************************\n",
      "\n",
      "Epoch 2: train_loss=3.8802\n"
     ]
    },
    {
     "data": {
      "application/vnd.jupyter.widget-view+json": {
       "model_id": "",
       "version_major": 2,
       "version_minor": 0
      },
      "text/plain": [
       "Validation: 0it [00:00, ?it/s]"
      ]
     },
     "metadata": {},
     "output_type": "display_data"
    },
    {
     "name": "stdout",
     "output_type": "stream",
     "text": [
      "*****************************************\n",
      "    SOURCE: There could be no doubt that it had a very turn-up nose, much more like a snout than a real nose; also its eyes were getting extremely small for a baby: altogether Alice did not like the look of the thing at all.\n",
      "    TARGET: Sans contredit son nez était très-retroussé, et ressemblait bien plutôt à un groin qu’à un vrai nez. Ses yeux aussi devenaient très-petits pour un bébé.\n",
      " PREDICTED: Il n ’ y avait aucun doute , ce n ’ était pas un nez , plus grand , comme un nez de vieux , mais aussi ses yeux étaient fort petits pour un petit enfant : tout en tout le regard de tout le monde .\n",
      "*****************************************\n",
      "\n",
      "*****************************************\n",
      "    SOURCE: Fourrez-le donc, ce monsieur si habile, au fond d’une voiture de troisieme classe dans le chemin de fer souterrain et demandez-lui de vous énumérer les professions de ses compagnons de voyage ; je parierais mille contre un qu’il serait incapable de s’en tirer.\n",
      "    TARGET: I should like to see him clapped down in a third class carriage on the Underground, and asked to give the trades of all his fellow-travellers. I would lay a thousand to one against him.\"\n",
      " PREDICTED: the , what sum , Signor , if , at one of the of , and ask you to him the of his of his , I could find a hundred yards upon which he would have no .\n",
      "*****************************************\n",
      "\n",
      "Epoch 3: train_loss=3.3073\n"
     ]
    },
    {
     "data": {
      "application/vnd.jupyter.widget-view+json": {
       "model_id": "",
       "version_major": 2,
       "version_minor": 0
      },
      "text/plain": [
       "Validation: 0it [00:00, ?it/s]"
      ]
     },
     "metadata": {},
     "output_type": "display_data"
    },
    {
     "name": "stdout",
     "output_type": "stream",
     "text": [
      "*****************************************\n",
      "    SOURCE: I began to feel the pangs of a violent hunger.\n",
      "    TARGET: Je commençais à éprouver une faim violente.\n",
      " PREDICTED: Je commençai à trouver un violent faim .\n",
      "*****************************************\n",
      "\n",
      "*****************************************\n",
      "    SOURCE: The knives were not sharpened, nor the floors waxed; there were iron gratings to the windows and strong bars across the fireplace; the little Homais, in spite of their spirit, could not stir without someone watching them; at the slightest cold their father stuffed them with pectorals; and until they were turned four they all, without pity, had to wear wadded head-protectors. This, it is true, was a fancy of Madame Homais'; her husband was inwardly afflicted at it.\n",
      "    TARGET: Il y avait aux fenêtres des grilles en fer et aux chambranles de fortes barres. Les petits Homais, malgré leur indépendance, ne pouvaient remuer sans un surveillant derrière eux; au moindre rhume, leur père les bourrait de pectoraux, et jusqu’à plus de quatre ans ils portaient tous, impitoyablement, des bourrelets matelassés.\n",
      " PREDICTED: Les couteaux ne pas , ni les guides , il y avait des de fer aux fenêtres et de grosses barreaux ; le peu de peu , malgré leur esprit , ne pouvait les retenir , sans les revoir , ils les et ils se , jusqu ’ à quatre , sans qu ’ ils avaient fait , sans pitié , ils avaient eu la tête à Mme de , c ’ est une vraie tête de Mme Homais .\n",
      "*****************************************\n",
      "\n",
      "Epoch 4: train_loss=3.7455\n"
     ]
    },
    {
     "data": {
      "application/vnd.jupyter.widget-view+json": {
       "model_id": "",
       "version_major": 2,
       "version_minor": 0
      },
      "text/plain": [
       "Validation: 0it [00:00, ?it/s]"
      ]
     },
     "metadata": {},
     "output_type": "display_data"
    },
    {
     "name": "stdout",
     "output_type": "stream",
     "text": [
      "*****************************************\n",
      "    SOURCE: Elle ne pouvait s’accoutumer à ce malheur : son idole avait un défaut ; enfin dans un moment de bonne amitié elle demanda conseil au comte, ce fut pour celui-ci un instant délicieux et une belle récompense du mouvement honnête qui l’avait fait revenir à Parme.\n",
      "    TARGET: She could not grow used to this disaster; her idol had a fault; finally, in a moment of frank friendship, she asked the Conte's advice; this was for him a delicious instant, and a fine reward for the honourable impulse which had made him return to Parma.\n",
      " PREDICTED: She could not fail to this request for the most ; at last moment , in a good moments of good friendship she asked the Conte ' s advice , that she was for a moment a moment of the great lady of the great lady of the great lady , who had left at Parma .\n",
      "*****************************************\n",
      "\n",
      "*****************************************\n",
      "    SOURCE: \"It is well for you that a low fever has forced you to abstain for the last three days: there would have been danger in yielding to the cravings of your appetite at first.\n",
      "    TARGET: «Il est heureux, reprit-il, que la fièvre vous ait forcée à vous abstenir ces trois derniers jours: il y aurait eu du danger à céder dès le commencement à votre appétit vorace.\n",
      " PREDICTED: -- C ' est bien que la fièvre vous a forcée de vous traiter les trois jours ; il y aurait du danger pour céder aux de votre appétit .\n",
      "*****************************************\n",
      "\n",
      "Epoch 5: train_loss=3.6011\n"
     ]
    },
    {
     "data": {
      "application/vnd.jupyter.widget-view+json": {
       "model_id": "",
       "version_major": 2,
       "version_minor": 0
      },
      "text/plain": [
       "Validation: 0it [00:00, ?it/s]"
      ]
     },
     "metadata": {},
     "output_type": "display_data"
    },
    {
     "name": "stdout",
     "output_type": "stream",
     "text": [
      "*****************************************\n",
      "    SOURCE: Near three o'clock in the afternoon on July 6, fifteen miles south of shore, the Abraham Lincoln doubled that solitary islet at the tip of the South American continent, that stray rock Dutch seamen had named Cape Horn after their hometown of Hoorn.\n",
      "    TARGET: Le 6 juillet, vers trois heures du soir, I'Abraham Lincoln, à quinze milles dans le sud, doubla cet îlot solitaire, ce roc perdu à l'extrémité du continent américain, auquel des marins hollandais imposèrent le nom de leur villa natale, le cap Horn.\n",
      " PREDICTED: Vers trois heures du soir , le 6 juillet , quinze kilometres au sud de l ' Abraham , le plus noir qui , au bout du continent , avait perdu le cap de l ' Amérique , après leur de .\n",
      "*****************************************\n",
      "\n",
      "*****************************************\n",
      "    SOURCE: The hull of the \"Speedy\" was just beginning to issue from the water.\n",
      "    TARGET: À ce moment, la coque du speedy commençait à se montrer au-dessus des eaux.\n",
      " PREDICTED: La coque du speedy commençait à s ' éloigner de l ' eau .\n",
      "*****************************************\n",
      "\n",
      "Epoch 6: train_loss=2.8747\n"
     ]
    },
    {
     "data": {
      "application/vnd.jupyter.widget-view+json": {
       "model_id": "",
       "version_major": 2,
       "version_minor": 0
      },
      "text/plain": [
       "Validation: 0it [00:00, ?it/s]"
      ]
     },
     "metadata": {},
     "output_type": "display_data"
    },
    {
     "name": "stdout",
     "output_type": "stream",
     "text": [
      "*****************************************\n",
      "    SOURCE: I had barely gotten up from my passably hard mattress when I felt my mind clear, my brain go on the alert.\n",
      "    TARGET: A peine relevé de cette couche passablement dure, je sentis mon cerveau dégagé, mon esprit net.\n",
      " PREDICTED: Je m ' étais endormie à peine si j ' avais rencontré un matelas sur mes bras , quand je sentis mon cerveau s ' élancer .\n",
      "*****************************************\n",
      "\n",
      "*****************************************\n",
      "    SOURCE: \"Well, then,\" said Milady, \"I confide in my brother; I will dare to--\"\n",
      "    TARGET: «Eh bien, dit Milady, je me fie à mon frère, j'oserai!»\n",
      " PREDICTED: -- Eh bien , dit Milady , je me fie à mon frère ; je osera ...\n",
      "*****************************************\n",
      "\n",
      "Epoch 7: train_loss=2.5106\n"
     ]
    },
    {
     "data": {
      "application/vnd.jupyter.widget-view+json": {
       "model_id": "",
       "version_major": 2,
       "version_minor": 0
      },
      "text/plain": [
       "Validation: 0it [00:00, ?it/s]"
      ]
     },
     "metadata": {},
     "output_type": "display_data"
    },
    {
     "name": "stdout",
     "output_type": "stream",
     "text": [
      "*****************************************\n",
      "    SOURCE: \"No! but Mouquette promised to lend me half a franc.\"\n",
      "    TARGET: —Non, c'est Mouquette qui a promis de me preter dix sous.\n",
      " PREDICTED: — Non ! mais la Mouquette m ' a promis de me prêter une moitié .\n",
      "*****************************************\n",
      "\n",
      "*****************************************\n",
      "    SOURCE: — Non.\n",
      "    TARGET: \"No.\"\n",
      " PREDICTED: \" No .\n",
      "*****************************************\n",
      "\n",
      "Epoch 8: train_loss=2.3297\n"
     ]
    },
    {
     "data": {
      "application/vnd.jupyter.widget-view+json": {
       "model_id": "",
       "version_major": 2,
       "version_minor": 0
      },
      "text/plain": [
       "Validation: 0it [00:00, ?it/s]"
      ]
     },
     "metadata": {},
     "output_type": "display_data"
    },
    {
     "name": "stdout",
     "output_type": "stream",
     "text": [
      "*****************************************\n",
      "    SOURCE: \"Even money either way,\" cried the voice again.\n",
      "    TARGET: -- Au pair sur les deux champions, répéta la voix.\n",
      " PREDICTED: -- De l ' argent , de nouveau , cria la voix .\n",
      "*****************************************\n",
      "\n",
      "*****************************************\n",
      "    SOURCE: \"Perfectly.\"\n",
      "    TARGET: -- Parfaitement.\n",
      " PREDICTED: -- Parfaitement .\n",
      "*****************************************\n",
      "\n",
      "Epoch 9: train_loss=2.7592\n"
     ]
    },
    {
     "data": {
      "application/vnd.jupyter.widget-view+json": {
       "model_id": "",
       "version_major": 2,
       "version_minor": 0
      },
      "text/plain": [
       "Validation: 0it [00:00, ?it/s]"
      ]
     },
     "metadata": {},
     "output_type": "display_data"
    },
    {
     "name": "stdout",
     "output_type": "stream",
     "text": [
      "*****************************************\n",
      "    SOURCE: \"You ought to know.\"\n",
      "    TARGET: -- Vous devez bien le savoir.\n",
      " PREDICTED: -- Vous devez le savoir .\n",
      "*****************************************\n",
      "\n",
      "*****************************************\n",
      "    SOURCE: All the same, I callit good luck, jolly good luck!\"\n",
      "    TARGET: C'est égal, en voilàune veine, une rude veine!\n",
      " PREDICTED: Je ne regrette rien , ma chérie ! »\n",
      "*****************************************\n",
      "\n",
      "Epoch 10: train_loss=2.0522\n"
     ]
    },
    {
     "data": {
      "application/vnd.jupyter.widget-view+json": {
       "model_id": "",
       "version_major": 2,
       "version_minor": 0
      },
      "text/plain": [
       "Validation: 0it [00:00, ?it/s]"
      ]
     },
     "metadata": {},
     "output_type": "display_data"
    },
    {
     "name": "stdout",
     "output_type": "stream",
     "text": [
      "*****************************************\n",
      "    SOURCE: \"My gas-burner, which I forgot to turn off, and which is at this moment burning at my expense.\n",
      "    TARGET: -- Mon bec de gaz que j'ai oublié d'éteindre et qui brûle à mon compte.\n",
      " PREDICTED: « Mon bec de gaz , que j ' ai oublié de me retourner , et ce qui est en ce moment dévoré .\n",
      "*****************************************\n",
      "\n",
      "*****************************************\n",
      "    SOURCE: Day dawned; Pencroft and his companions immediately proceeded to survey the dwelling.\n",
      "    TARGET: Pencroff et ses compagnons procédèrent immédiatement à l'examen de l'habitation.\n",
      " PREDICTED: Le jour parut , Pencroff et ses compagnons se aussitôt à l ' heure de la demeure .\n",
      "*****************************************\n",
      "\n",
      "Epoch 11: train_loss=1.8327\n"
     ]
    },
    {
     "data": {
      "application/vnd.jupyter.widget-view+json": {
       "model_id": "",
       "version_major": 2,
       "version_minor": 0
      },
      "text/plain": [
       "Validation: 0it [00:00, ?it/s]"
      ]
     },
     "metadata": {},
     "output_type": "display_data"
    },
    {
     "name": "stdout",
     "output_type": "stream",
     "text": [
      "*****************************************\n",
      "    SOURCE: Faster and faster yet they raced, the hoofs rattling like castanets, the yellow manes flying, the wheels buzzing, and every joint and rivet creaking and groaning, while the curricle swung and swayed until I found myself clutching to the side-rail.\n",
      "    TARGET: Les crinières jaunes voltigeaient, les roues bourdonnaient. Toutes les jointures, tous les rivets craquaient, gémissaient pendant que la voiture oscillait et se balançait au point que je dus me cramponner à la barre de côté.\n",
      " PREDICTED: Plus ils couraient , les pattes , des robinets de poules , des de buissons jaunes , les roues , , and chaque , en se , et en fermant la route , en me vers le côté de la barrière .\n",
      "*****************************************\n",
      "\n",
      "*****************************************\n",
      "    SOURCE: \"Listen, then, Jane Eyre, to your sentence: to-morrow, place the glass before you, and draw in chalk your own picture, faithfully, without softening one defect; omit no harsh line, smooth away no displeasing irregularity; write under it, 'Portrait of a Governess, disconnected, poor, and plain.'\n",
      "    TARGET: «Jane Eyre, écoute donc ta sentence: demain tu prendras une glace et tu feras fidèlement ton portrait, sans omettre un seul défaut, sans adoucir une seule ligne trop dure, sans effacer une seule irrégularité déplaisante; tu écriras en dessous: «Portrait d'une gouvernante laide, pauvre et sans famille.»\n",
      " PREDICTED: -- Écoutez - vous donc , Jane Eyre , pour vous parler ; demain , au verre de vous et vous dans votre image par un défaut dur , sans vous donner un défaut ; non pas de , n ' en point , d ' écrire sous elle , elle est , pauvre et , se .\n",
      "*****************************************\n",
      "\n",
      "Epoch 12: train_loss=2.0704\n"
     ]
    },
    {
     "data": {
      "application/vnd.jupyter.widget-view+json": {
       "model_id": "",
       "version_major": 2,
       "version_minor": 0
      },
      "text/plain": [
       "Validation: 0it [00:00, ?it/s]"
      ]
     },
     "metadata": {},
     "output_type": "display_data"
    },
    {
     "name": "stdout",
     "output_type": "stream",
     "text": [
      "*****************************************\n",
      "    SOURCE: \"You saw your wi--\"\n",
      "    TARGET: «Tu as vu ta fem...\n",
      " PREDICTED: -- Vous avez vu l ' argent avec vous ...\n",
      "*****************************************\n",
      "\n",
      "*****************************************\n",
      "    SOURCE: The attack of gout was prolonged by the wintry weather and lasted for some months.\n",
      "    TARGET: L’attaque de goutte fut prolongée par les grands froids de l’hiver et dura plusieurs mois.\n",
      " PREDICTED: L ’ attaque de goutte coulait rapidement par l ’ immense saison , et il tomba pendant quelques mois .\n",
      "*****************************************\n",
      "\n",
      "Epoch 13: train_loss=2.0462\n"
     ]
    },
    {
     "data": {
      "application/vnd.jupyter.widget-view+json": {
       "model_id": "",
       "version_major": 2,
       "version_minor": 0
      },
      "text/plain": [
       "Validation: 0it [00:00, ?it/s]"
      ]
     },
     "metadata": {},
     "output_type": "display_data"
    },
    {
     "name": "stdout",
     "output_type": "stream",
     "text": [
      "*****************************************\n",
      "    SOURCE: A favourite subject of conversation was afforded by the experiences of old Michaud who was plied with questions respecting the strange and sinister adventures with which he must have been connected in the discharge of his former functions.\n",
      "    TARGET: Un des grands sujets de conversation était de parler au vieux Michaud de ses anciennes fonctions, de le questionner sur les étranges et sinistres aventures auxquelles il avait dû être mêlé.\n",
      " PREDICTED: On causait une conversation avec le favori de la vieille : il faisait des questions , des aventures étranges dont il avait dû occuper la partie des anciennes .\n",
      "*****************************************\n",
      "\n",
      "*****************************************\n",
      "    SOURCE: Par une bizarrerie de malade, dès que le général Fabio Conti avait pu parler, il avait fait monter deux cents soldats dans cet ancien corps de garde abandonné depuis un siècle.\n",
      "    TARGET: By a sick man's whim, as soon as General Fabio Conti was able to speak, he had ordered up two hundred soldiers into this old guard-room, disused for over a century.\n",
      " PREDICTED: By a of ill , at which General Fabio Conti had been speaking , he had put on two hundred soldiers in this old guard - room of an old guard in the old guard - room .\n",
      "*****************************************\n",
      "\n",
      "Epoch 14: train_loss=1.8917\n"
     ]
    },
    {
     "data": {
      "application/vnd.jupyter.widget-view+json": {
       "model_id": "",
       "version_major": 2,
       "version_minor": 0
      },
      "text/plain": [
       "Validation: 0it [00:00, ?it/s]"
      ]
     },
     "metadata": {},
     "output_type": "display_data"
    },
    {
     "name": "stdout",
     "output_type": "stream",
     "text": [
      "*****************************************\n",
      "    SOURCE: From sentence to sentence they came to mutual reproaches about this drowning business at Saint-Ouen, casting the crime in the face of one another.\n",
      "    TARGET: De parole en parole, ils en arrivaient à se reprocher la noyade de Saint-Ouen; alors ils voyaient rouge, ils s'exaltaient jusqu'à la rage.\n",
      " PREDICTED: De sentence de sentence , on prit des reproches à parler , de ce train de à Saint - Ouen au visage de l ' un à l ' autre .\n",
      "*****************************************\n",
      "\n",
      "*****************************************\n",
      "    SOURCE: Then he was silent.\n",
      "    TARGET: Alors il se tut.\n",
      " PREDICTED: Alors il se tut .\n",
      "*****************************************\n",
      "\n",
      "Epoch 15: train_loss=1.9467\n"
     ]
    },
    {
     "data": {
      "application/vnd.jupyter.widget-view+json": {
       "model_id": "",
       "version_major": 2,
       "version_minor": 0
      },
      "text/plain": [
       "Validation: 0it [00:00, ?it/s]"
      ]
     },
     "metadata": {},
     "output_type": "display_data"
    },
    {
     "name": "stdout",
     "output_type": "stream",
     "text": [
      "*****************************************\n",
      "    SOURCE: It was all that remained of the structure of Granite House!\n",
      "    TARGET: C'était tout ce qui restait du massif de Granite-House!\n",
      " PREDICTED: C ' était tout ce qui restait du monument de Granite - House !\n",
      "*****************************************\n",
      "\n",
      "*****************************************\n",
      "    SOURCE: Think of the ignominy with which he will drive you from the house; all Verrieres, all Besancon will ring with the scandal.\n",
      "    TARGET: Songe que c’est avec ignominie qu’il te chassera de sa maison ; tout Verrières, tout Besançon parleront de ce scandale.\n",
      " PREDICTED: Songez à l ’ ignominie qu ’ il vous chassera ; tout Verrières , tout Verrières , va sonner Besançon avec le scandale .\n",
      "*****************************************\n",
      "\n",
      "Epoch 16: train_loss=1.9910\n"
     ]
    },
    {
     "data": {
      "application/vnd.jupyter.widget-view+json": {
       "model_id": "",
       "version_major": 2,
       "version_minor": 0
      },
      "text/plain": [
       "Validation: 0it [00:00, ?it/s]"
      ]
     },
     "metadata": {},
     "output_type": "display_data"
    },
    {
     "name": "stdout",
     "output_type": "stream",
     "text": [
      "*****************************************\n",
      "    SOURCE: Enfin le domestique vint lui annoncer que Mlle Clélia Conti était disposée à le recevoir.\n",
      "    TARGET: At length the servant came to inform him that Signorina Clelia Conti was willing to receive him.\n",
      " PREDICTED: At length the servant came to him that Mlle Clelia Conti was beginning to fall .\n",
      "*****************************************\n",
      "\n",
      "*****************************************\n",
      "    SOURCE: She allowed the vessel to pass Lorient and Brest without repeating her request to the captain, who, on his part, took care not to remind her of it.\n",
      "    TARGET: Elle laissa donc passer Lorient et Brest sans insister près du capitaine, qui, de son côté, se garda bien de lui donner l'éveil.\n",
      " PREDICTED: Elle laissait aller le navire au , sans qu ' elle ni lui ni demander la demander au capitaine , qui , de sa part , n ' en voulait pas la rappeler .\n",
      "*****************************************\n",
      "\n",
      "Epoch 17: train_loss=1.9044\n"
     ]
    },
    {
     "data": {
      "application/vnd.jupyter.widget-view+json": {
       "model_id": "",
       "version_major": 2,
       "version_minor": 0
      },
      "text/plain": [
       "Validation: 0it [00:00, ?it/s]"
      ]
     },
     "metadata": {},
     "output_type": "display_data"
    },
    {
     "name": "stdout",
     "output_type": "stream",
     "text": [
      "*****************************************\n",
      "    SOURCE: \"All.\"\n",
      "    TARGET: --Toutes.\n",
      " PREDICTED: -- Tout .\n",
      "*****************************************\n",
      "\n",
      "*****************************************\n",
      "    SOURCE: Elizabeth's eyes were fixed on her with most painful sensations, and she watched her progress through the several stanzas with an impatience which was very ill rewarded at their close; for Mary, on receiving, amongst the thanks of the table, the hint of a hope that she might be prevailed on to favour them again, after the pause of half a minute began another.\n",
      "    TARGET: Elizabeth l’écouta chanter plusieurs strophes avec une impatience qui ne s’apaisa point a la fin du morceau ; car quelqu’un ayant exprimé vaguement l’espoir de l’entendre encore, Mary se remit au piano.\n",
      " PREDICTED: Les yeux d ’ Elizabeth étaient fixés sur elle , et , parmi ses doigts , elle ne voyait pas , par cette lueur de , de ces cris d ’ impatience qui les , c ’ était elle , a la vue de Marie , la table de la table , – l ’ idée qu ’ elle ferait de l ’ espoir qu ’ elle pourrait leur donner une demi - minute , apres une demi - minute .\n",
      "*****************************************\n",
      "\n",
      "Epoch 18: train_loss=1.8376\n"
     ]
    },
    {
     "data": {
      "application/vnd.jupyter.widget-view+json": {
       "model_id": "",
       "version_major": 2,
       "version_minor": 0
      },
      "text/plain": [
       "Validation: 0it [00:00, ?it/s]"
      ]
     },
     "metadata": {},
     "output_type": "display_data"
    },
    {
     "name": "stdout",
     "output_type": "stream",
     "text": [
      "*****************************************\n",
      "    SOURCE: \"Well,\" said Pencroft, \"this bay would make admirable roads, in which a whole fleet could lie at their ease!\"\n",
      "    TARGET: «Voilà, dit Pencroff, un bout de mer qui ferait une rade admirable, où des flottes pourraient évoluer à leur aise!\n",
      " PREDICTED: « Eh bien , dit Pencroff , cette baie est une admirable rade , et dont toute une flotte à l ' aise !\n",
      "*****************************************\n",
      "\n",
      "*****************************************\n",
      "    SOURCE: \"Monsieur de Treville?\" said the stranger, becoming attentive, \"he put his hand upon his pocket while pronouncing the name of Monsieur de Treville?\n",
      "    TARGET: -- M. de Tréville? dit l'inconnu en devenant attentif; il frappait sur sa poche en prononçant le nom de M. de Tréville?...\n",
      " PREDICTED: -- M . de Tréville ? dit l ' inconnu en s ' animant , il a mis sa main sur sa poche , en poussant le nom de M . de Tréville ?\n",
      "*****************************************\n",
      "\n",
      "Epoch 19: train_loss=1.8544\n"
     ]
    },
    {
     "data": {
      "application/vnd.jupyter.widget-view+json": {
       "model_id": "",
       "version_major": 2,
       "version_minor": 0
      },
      "text/plain": [
       "Validation: 0it [00:00, ?it/s]"
      ]
     },
     "metadata": {},
     "output_type": "display_data"
    },
    {
     "name": "stdout",
     "output_type": "stream",
     "text": [
      "*****************************************\n",
      "    SOURCE: I promise not to go without you.'\n",
      "    TARGET: Je te promets de ne pas repartir sans toi.\n",
      " PREDICTED: Je ne vous demande pas non .\n",
      "*****************************************\n",
      "\n",
      "*****************************************\n",
      "    SOURCE: \"Shall I bring him alone?\"\n",
      "    TARGET: -- L'amènerai-je seul?\n",
      " PREDICTED: -- - je l ' amener seul ?\n",
      "*****************************************\n",
      "\n",
      "Epoch 20: train_loss=1.8999\n"
     ]
    },
    {
     "data": {
      "application/vnd.jupyter.widget-view+json": {
       "model_id": "",
       "version_major": 2,
       "version_minor": 0
      },
      "text/plain": [
       "Validation: 0it [00:00, ?it/s]"
      ]
     },
     "metadata": {},
     "output_type": "display_data"
    },
    {
     "name": "stdout",
     "output_type": "stream",
     "text": [
      "*****************************************\n",
      "    SOURCE: I made some attempts to draw her into conversation, but she seemed a person of few words: a monosyllabic reply usually cut short every effort of that sort.\n",
      "    TARGET: Je tâchai plusieurs fois d'entrer en conversation avec elle; mais elle n'était pas causante. Généralement une réponse monosyllabique coupait court à tout entretien.\n",
      " PREDICTED: Je fis quelques consolations à la conversation . Elle me parut avoir une réponse ordinaire , et un mouvement de fatigue coupée chaque instant de ce genre .\n",
      "*****************************************\n",
      "\n",
      "*****************************************\n",
      "    SOURCE: \"Well?\"\n",
      "    TARGET: -- Eh bien?\n",
      " PREDICTED: -- Eh bien ?\n",
      "*****************************************\n",
      "\n",
      "Epoch 21: train_loss=1.9365\n"
     ]
    },
    {
     "data": {
      "application/vnd.jupyter.widget-view+json": {
       "model_id": "",
       "version_major": 2,
       "version_minor": 0
      },
      "text/plain": [
       "Validation: 0it [00:00, ?it/s]"
      ]
     },
     "metadata": {},
     "output_type": "display_data"
    },
    {
     "name": "stdout",
     "output_type": "stream",
     "text": [
      "*****************************************\n",
      "    SOURCE: It was the coffer which Ayrton had saved at the risk of his life, at the very instant that the island had been engulfed, and which he now faithfully handed to the engineer.\n",
      "    TARGET: C'était le coffret qu'Ayrton avait sauvé au péril de sa vie, au moment où l'île s'engloutissait, et qu'il venait fidèlement remettre à l'ingénieur.\n",
      " PREDICTED: C ' était le coffret que fit au risque de sa vie , au moindre instant que l ' île avait été et que celui qu ' il avait présent avait abandonné à l ' ingénieur .\n",
      "*****************************************\n",
      "\n",
      "*****************************************\n",
      "    SOURCE: \"You may speak,\" said Madame Hennebeau complacently.\n",
      "    TARGET: —Vous pouvez parler, dit madame Hennebeau complaisamment.\n",
      " PREDICTED: — Vous pouvez parler , dit madame Hennebeau avec complaisance .\n",
      "*****************************************\n",
      "\n",
      "Epoch 22: train_loss=1.9764\n"
     ]
    },
    {
     "data": {
      "application/vnd.jupyter.widget-view+json": {
       "model_id": "",
       "version_major": 2,
       "version_minor": 0
      },
      "text/plain": [
       "Validation: 0it [00:00, ?it/s]"
      ]
     },
     "metadata": {},
     "output_type": "display_data"
    },
    {
     "name": "stdout",
     "output_type": "stream",
     "text": [
      "*****************************************\n",
      "    SOURCE: It was impossible to tell what rocks we were passing: the tunnel, instead of tending lower, approached more and more nearly to a horizontal direction, I even fancied a slight rise.\n",
      "    TARGET: Le tunnel, au lieu de s'enfoncer dans les entrailles du globe, tendait à devenir absolument horizontal. Je crus remarquer même qu'il remontait vers la surface de la terre.\n",
      " PREDICTED: Il n ' était pas possible de dire ce rocher : l ' tunnel , sans hâte , s ' approcher de plus en plus , s ' approcher et ne presque plus à une direction presque fin .\n",
      "*****************************************\n",
      "\n",
      "*****************************************\n",
      "    SOURCE: It was one of those spectres, half light, half shadow, such as one beholds in dreams and in the extraordinary work of Goya, pale, motionless, sinister, crouching over a tomb, or leaning against the grating of a prison cell.\n",
      "    TARGET: C’était un de ces spectres mi-partis d’ombre et de lumière, comme on en voit dans les rêves et dans l’œuvre extraordinaire de Goya, pâles, immobiles, sinistres, accroupis sur une tombe ou adossés à la grille d’un cachot.\n",
      " PREDICTED: C ’ était une de ces spectres , à demi - obscurité , comme on voit dans les songes extraordinaire , et on voit dans l ’ opération d ’ une pâle et immobile , accroupie devant une tombe , ou se penchant sur une grille à la grille .\n",
      "*****************************************\n",
      "\n",
      "Epoch 23: train_loss=1.8470\n"
     ]
    },
    {
     "data": {
      "application/vnd.jupyter.widget-view+json": {
       "model_id": "",
       "version_major": 2,
       "version_minor": 0
      },
      "text/plain": [
       "Validation: 0it [00:00, ?it/s]"
      ]
     },
     "metadata": {},
     "output_type": "display_data"
    },
    {
     "name": "stdout",
     "output_type": "stream",
     "text": [
      "*****************************************\n",
      "    SOURCE: What do his faults, his absurdities matter?\n",
      "    TARGET: Qu’importent ses défauts, ses ridicules ?\n",
      " PREDICTED: Que devint - il ses défauts .\n",
      "*****************************************\n",
      "\n",
      "*****************************************\n",
      "    SOURCE: But neither there, nor in any other part of Mount Franklin, did the colonists find any traces of him of whom they were in search.\n",
      "    TARGET: Mais ni là, ni en aucune autre partie du mont Franklin, les colons ne trouvèrent les traces de celui qu'ils cherchaient.\n",
      " PREDICTED: Mais ni lui , ni aucun autre part du mont Franklin , n ' en firent aucune trace de lui que l ' on cherchait .\n",
      "*****************************************\n",
      "\n",
      "Epoch 24: train_loss=1.8189\n"
     ]
    },
    {
     "data": {
      "application/vnd.jupyter.widget-view+json": {
       "model_id": "",
       "version_major": 2,
       "version_minor": 0
      },
      "text/plain": [
       "Validation: 0it [00:00, ?it/s]"
      ]
     },
     "metadata": {},
     "output_type": "display_data"
    },
    {
     "name": "stdout",
     "output_type": "stream",
     "text": [
      "*****************************************\n",
      "    SOURCE: It was evident that the bellringer was to serve the archdeacon for a given time, at the end of which he would carry away the latter's soul, by way of payment.\n",
      "    TARGET: Il était évident que le sonneur devait servir l’archidiacre pendant un temps donné au bout duquel il emporterait son âme en guise de paiement.\n",
      " PREDICTED: Il était évident que le sonneur de cloches était de servir l ’ archidiacre à temps , au bout de lequel il l ’ âme de celui - ci , par manière de gagner .\n",
      "*****************************************\n",
      "\n",
      "*****************************************\n",
      "    SOURCE: M. de Caylus asserted that he had been credited with the determination to propose for the hand of Mademoiselle de La Mole (to whom the Marquis de Croisenois, who was heir to a Dukedom with an income of one hundred thousand livres, was paying court).\n",
      "    TARGET: M. de Caylus prétendait qu’on lui avait donné la volonté de demander en mariage Mlle de La Mole (à laquelle le marquis de Croisenois, qui devait être duc avec cent mille livres de rente, faisait la cour).\n",
      " PREDICTED: M . de Caylus qu ’ il lui avait appris à faire cette résolution pour lui de proposition pour la main de Mlle de La Mole ( à qui le marquis de Croisenois , qui était héritier à un commerce de cent mille livres de rente , on peut faire la cour ).\n",
      "*****************************************\n",
      "\n",
      "Epoch 25: train_loss=1.9091\n"
     ]
    },
    {
     "data": {
      "application/vnd.jupyter.widget-view+json": {
       "model_id": "",
       "version_major": 2,
       "version_minor": 0
      },
      "text/plain": [
       "Validation: 0it [00:00, ?it/s]"
      ]
     },
     "metadata": {},
     "output_type": "display_data"
    },
    {
     "name": "stdout",
     "output_type": "stream",
     "text": [
      "*****************************************\n",
      "    SOURCE: \"Bread! bread! bread!\"\n",
      "    TARGET: —Du pain! du pain! du pain!\n",
      " PREDICTED: — Du pain ! du pain ! du pain !\n",
      "*****************************************\n",
      "\n",
      "*****************************************\n",
      "    SOURCE: Since 1815 he has blushed at his connection with industry: 1815 made him Mayor of Verrieres.\n",
      "    TARGET: Depuis 1815 il rougit d’être industriel : 1815 l’a fait maire de Verrières.\n",
      " PREDICTED: Depuis qu ’ il a rougit de son rapport avec l ’ assurance de l ’ industrie et qui le fait voir M . le maire de Verrières .\n",
      "*****************************************\n",
      "\n",
      "Epoch 26: train_loss=1.7667\n"
     ]
    },
    {
     "data": {
      "application/vnd.jupyter.widget-view+json": {
       "model_id": "",
       "version_major": 2,
       "version_minor": 0
      },
      "text/plain": [
       "Validation: 0it [00:00, ?it/s]"
      ]
     },
     "metadata": {},
     "output_type": "display_data"
    },
    {
     "name": "stdout",
     "output_type": "stream",
     "text": [
      "*****************************************\n",
      "    SOURCE: The latter--a pretty girl of about twenty or twenty-two years, active and lively, the true SOUBRETTE of a great lady--jumped from the step upon which, according to the custom of the time, she was seated, and took her way toward the terrace upon which d’Artagnan had perceived Lubin.\n",
      "    TARGET: Cette dernière, jolie fille de vingt à vingt-deux ans, alerte et vive, véritable soubrette de grande dame, sauta en bas du marchepied, sur lequel elle était assise selon l'usage du temps, et se dirigea vers la terrasse où d'Artagnan avait aperçu Lubin.\n",
      " PREDICTED: Celle - ci , une jolie fille de vingt ou vingt - deux ans , active et fine , la vraie soubrette d ' une grande dame , sauta de la marche sur laquelle , selon la coutume de l ' époque , elle fut assise , et se dirigea vers la terrasse que d ' Artagnan avait aperçu .\n",
      "*****************************************\n",
      "\n",
      "*****************************************\n",
      "    SOURCE: Our family, the Stones, have for many generations belonged to the navy, and it has been a custom among us for the eldest son to take the name of his father's favourite commander.\n",
      "    TARGET: Notre famille, les Stone, était depuis bien des générations vouée à la marine et il était de tradition, chez nous, que l'aîné portât le nom du commandant favori de son père.\n",
      " PREDICTED: Notre famille , les Stone , ont pour plusieurs générations d ' générations de sa marine , et il a été d ' une habitude parmi nous pour le fils aîné de son père favori .\n",
      "*****************************************\n",
      "\n",
      "Epoch 27: train_loss=1.7472\n"
     ]
    },
    {
     "data": {
      "application/vnd.jupyter.widget-view+json": {
       "model_id": "",
       "version_major": 2,
       "version_minor": 0
      },
      "text/plain": [
       "Validation: 0it [00:00, ?it/s]"
      ]
     },
     "metadata": {},
     "output_type": "display_data"
    },
    {
     "name": "stdout",
     "output_type": "stream",
     "text": [
      "*****************************************\n",
      "    SOURCE: Have you yesterday's Times, Watson?\"\n",
      "    TARGET: Avez-vous le Times d’hier, Watson ?\n",
      " PREDICTED: Vous avez le Times , Watson ?\n",
      "*****************************************\n",
      "\n",
      "*****************************************\n",
      "    SOURCE: She told him one day that she was reading d'Aubigne's _History_, and Brantome.\n",
      "    TARGET: Elle lui dit un jour qu’elle lisait l’histoire de d’Aubigné et Brantôme.\n",
      " PREDICTED: Elle lui dit un jour qu ’ elle lisait en , .\n",
      "*****************************************\n",
      "\n",
      "Epoch 28: train_loss=1.8868\n"
     ]
    },
    {
     "data": {
      "application/vnd.jupyter.widget-view+json": {
       "model_id": "",
       "version_major": 2,
       "version_minor": 0
      },
      "text/plain": [
       "Validation: 0it [00:00, ?it/s]"
      ]
     },
     "metadata": {},
     "output_type": "display_data"
    },
    {
     "name": "stdout",
     "output_type": "stream",
     "text": [
      "*****************************************\n",
      "    SOURCE: I trust that he is kind to her.\n",
      "    TARGET: J’espère qu’il est gentil avec elle.\n",
      " PREDICTED: J ’ espère qu ’ il lui est bon .\n",
      "*****************************************\n",
      "\n",
      "*****************************************\n",
      "    SOURCE: \"Her lover.\"\n",
      "    TARGET: -- Son amant.\n",
      " PREDICTED: -- Son amant .\n",
      "*****************************************\n",
      "\n",
      "Epoch 29: train_loss=1.7362\n"
     ]
    },
    {
     "data": {
      "application/vnd.jupyter.widget-view+json": {
       "model_id": "",
       "version_major": 2,
       "version_minor": 0
      },
      "text/plain": [
       "Validation: 0it [00:00, ?it/s]"
      ]
     },
     "metadata": {},
     "output_type": "display_data"
    },
    {
     "name": "stdout",
     "output_type": "stream",
     "text": [
      "*****************************************\n",
      "    SOURCE: I have been spitting blood all the time.\n",
      "    TARGET: \"Je ne cesse de cracher le sang.\n",
      " PREDICTED: J ' ai pleuré le sang à la fois .\n",
      "*****************************************\n",
      "\n",
      "*****************************************\n",
      "    SOURCE: At times, he imagined a streak of blood was running down his chest, and would bespatter his white waistcoat with crimson.\n",
      "    TARGET: Il s'imaginait par moments qu'un filet de sang lui coulait sur la poitrine et allait tacher de rouge la blancheur de son gilet.\n",
      " PREDICTED: Par moments , il imaginait le pas , un sang - froid lui sortait par la poitrine , et allait son gilet blanc .\n",
      "*****************************************\n",
      "\n",
      "Epoch 30: train_loss=1.7893\n"
     ]
    },
    {
     "data": {
      "application/vnd.jupyter.widget-view+json": {
       "model_id": "",
       "version_major": 2,
       "version_minor": 0
      },
      "text/plain": [
       "Validation: 0it [00:00, ?it/s]"
      ]
     },
     "metadata": {},
     "output_type": "display_data"
    },
    {
     "name": "stdout",
     "output_type": "stream",
     "text": [
      "*****************************************\n",
      "    SOURCE: \"True.\n",
      "    TARGET: -- Juste.\n",
      " PREDICTED: -- C ' est vrai .\n",
      "*****************************************\n",
      "\n",
      "*****************************************\n",
      "    SOURCE: Later on I came to know in minute detail what had happened out there. . .\n",
      "    TARGET: Plus tard, j’ai su par le menu détail tout ce qui s’était passé là-bas…\n",
      " PREDICTED: Plus tard , je revins à moi dans les moments où s ' était passé la , ce qui était arrivé .\n",
      "*****************************************\n",
      "\n",
      "Epoch 31: train_loss=1.8169\n"
     ]
    },
    {
     "data": {
      "application/vnd.jupyter.widget-view+json": {
       "model_id": "",
       "version_major": 2,
       "version_minor": 0
      },
      "text/plain": [
       "Validation: 0it [00:00, ?it/s]"
      ]
     },
     "metadata": {},
     "output_type": "display_data"
    },
    {
     "name": "stdout",
     "output_type": "stream",
     "text": [
      "*****************************************\n",
      "    SOURCE: 'Tis a treasure.\n",
      "    TARGET: C’est un trésor.\n",
      " PREDICTED: C ’ est un trésor .\n",
      "*****************************************\n",
      "\n",
      "*****************************************\n",
      "    SOURCE: But the other was too tricky for him, and was on him like a shot.\n",
      "    TARGET: Mais l'autre était un vieux routier, et il fondit sur lui comme un boulet.\n",
      " PREDICTED: Mais l ’ autre était trop fort pour lui , et il était comme un coup .\n",
      "*****************************************\n",
      "\n",
      "Epoch 32: train_loss=1.7450\n"
     ]
    },
    {
     "data": {
      "application/vnd.jupyter.widget-view+json": {
       "model_id": "",
       "version_major": 2,
       "version_minor": 0
      },
      "text/plain": [
       "Validation: 0it [00:00, ?it/s]"
      ]
     },
     "metadata": {},
     "output_type": "display_data"
    },
    {
     "name": "stdout",
     "output_type": "stream",
     "text": [
      "*****************************************\n",
      "    SOURCE: \"Hold, hold, hold!\" said Athos, wit his quiet tone; \"that throw of the dice is extraordinary. I have not seen such a one four times in my life. Two aces!\"\n",
      "    TARGET: «Tiens, tiens, tiens, dit Athos avec sa voix tranquille, ce coup de dés est extraordinaire, et je ne l'ai vu que quatre fois dans ma vie: deux as!»\n",
      " PREDICTED: « Arrêtez , monsieur ! dit Athos , faites un ton tranquille , celui des dés sont extraordinaire ; je n ' ai pas vu un si bien quatre fois dans ma vie !\n",
      "*****************************************\n",
      "\n",
      "*****************************************\n",
      "    SOURCE: So I discoursed that point with my governess, and she went and waited upon the captain, and told him that she hoped ways might be found out for her two unfortunate cousins, as she called us, to obtain our freedom when we came into the country, and so entered into a discourse with him about the means and terms also, of which I shall say more in its place; and after thus sounding the captain, she let him know, though we were unhappy in the circumstances that occasioned our going, yet that we were not unfurnished to set ourselves to work in the country, and we resolved to settle and live there as planters, if we might be put in a way how to do it.\n",
      "    TARGET: Je parlai à ce sujet avec ma gouvernante, et elle alla trouver le capitaine, à qui elle dit qu'elle espérait qu'on pourrait trouver moyen d'obtenir la liberté de ses deux malheureux cousins, comme elle nous appelait, quand nous serions arrivés par delà la mer; puis s'enquit de lui quelles choses il était nécessaire d'emporter avec nous, et lui, en homme d'expérience, lui répondit:\n",
      " PREDICTED: Je donc que ce point avec ma gouvernante et elle l ' attendait sur le capitaine et lui dis qu ' elle pouvait être en attendant ses deux pauvres cousines , comme elle nous appelait pour nous aider lorsque nous entra dans la campagne , et nous lui dis avec le fait dont je saurai l ' espèce et les moyens de lui dire ; et après quoi je le capitaine , ainsi que nous puissions le saurions en avoir fait remarquer , et que nous ne saurions où nous notre vaisseau en route .\n",
      "*****************************************\n",
      "\n",
      "Epoch 33: train_loss=1.7092\n"
     ]
    },
    {
     "data": {
      "application/vnd.jupyter.widget-view+json": {
       "model_id": "",
       "version_major": 2,
       "version_minor": 0
      },
      "text/plain": [
       "Validation: 0it [00:00, ?it/s]"
      ]
     },
     "metadata": {},
     "output_type": "display_data"
    },
    {
     "name": "stdout",
     "output_type": "stream",
     "text": [
      "*****************************************\n",
      "    SOURCE: She thanked Suzanne for her attention. Although weakened, she talked, and had ceased wandering, but she spoke in a voice so full of sadness that at moments she was half choked.\n",
      "    TARGET: Elle remercia Suzanne de ses soins, elle parla, affaiblie, ne délirant plus, pleine d'une tristesse qui l'étouffait par moments.\n",
      " PREDICTED: Elle sa attention ; elle s ' ennuyait , elle parlait , elle avait cessé , mais elle parlait d ' une voix si pleine de tristesse que les instants elle étouffait .\n",
      "*****************************************\n",
      "\n",
      "*****************************************\n",
      "    SOURCE: The next day, as Candide was walking out, he met a beggar all covered with scabs, his eyes sunk in his head, the end of his nose eaten off, his mouth drawn on one side, his teeth as black as a cloak, snuffling and coughing most violently, and every time he attempted to spit out dropped a tooth.\n",
      "    TARGET: Le lendemain, en se promenant, il rencontra un gueux tout couvert de pustules, les yeux morts, le bout du nez rongé, la bouche de travers, les dents noires, et parlant de la gorge, tourmenté d'une toux violente, et crachant une dent à chaque effort.\n",
      " PREDICTED: Le lendemain Candide , au bout de ses dents , trouva une mendiante , tombée la tête à la tête , le bout du nez , l ' échine lui servait à côté , les dents noires comme un manteau , et qui fasse un manteau léger avec violence , et il essayait à cracher dehors .\n",
      "*****************************************\n",
      "\n",
      "Epoch 34: train_loss=1.6591\n"
     ]
    },
    {
     "data": {
      "application/vnd.jupyter.widget-view+json": {
       "model_id": "",
       "version_major": 2,
       "version_minor": 0
      },
      "text/plain": [
       "Validation: 0it [00:00, ?it/s]"
      ]
     },
     "metadata": {},
     "output_type": "display_data"
    },
    {
     "name": "stdout",
     "output_type": "stream",
     "text": [
      "*****************************************\n",
      "    SOURCE: In a few minutes the water reached 100 degrees centigrade.\n",
      "    TARGET: En quelques minutes, cette eau avait atteint cent degrés.\n",
      " PREDICTED: En quelques minutes , l ' eau arrivait à cent degrés .\n",
      "*****************************************\n",
      "\n",
      "*****************************************\n",
      "    SOURCE: \"One has to; but he wants more than that.\"\n",
      "    TARGET: --Il le faut bien, mais il veut encore autre chose.\n",
      " PREDICTED: -- On le veut , mais il en veut davantage .\n",
      "*****************************************\n",
      "\n",
      "Epoch 35: train_loss=1.7919\n"
     ]
    },
    {
     "data": {
      "application/vnd.jupyter.widget-view+json": {
       "model_id": "",
       "version_major": 2,
       "version_minor": 0
      },
      "text/plain": [
       "Validation: 0it [00:00, ?it/s]"
      ]
     },
     "metadata": {},
     "output_type": "display_data"
    },
    {
     "name": "stdout",
     "output_type": "stream",
     "text": [
      "*****************************************\n",
      "    SOURCE: My father was sitting with staring eyes, and his forgotten pipe reeking in his hand.\n",
      "    TARGET: Mon père restait immobile, les yeux fixes, oubliant la pipe fumante qu'il tenait à la main.\n",
      " PREDICTED: Mon père , assis les yeux fixes , trouva sa pipe dans la main .\n",
      "*****************************************\n",
      "\n",
      "*****************************************\n",
      "    SOURCE: I will sell the rest of what I do not want, and with this alone I will make two thousand francs a year.\n",
      "    TARGET: Je vendrai le superflue de ce que j'ai, et avec cette vente seule, je me ferais deux mille livres par an.\n",
      " PREDICTED: Je vendrai encore aux autres où je ne veux pas , et avec ces seuls , je ferai mille francs par an .\n",
      "*****************************************\n",
      "\n",
      "Epoch 36: train_loss=1.7323\n"
     ]
    },
    {
     "data": {
      "application/vnd.jupyter.widget-view+json": {
       "model_id": "",
       "version_major": 2,
       "version_minor": 0
      },
      "text/plain": [
       "Validation: 0it [00:00, ?it/s]"
      ]
     },
     "metadata": {},
     "output_type": "display_data"
    },
    {
     "name": "stdout",
     "output_type": "stream",
     "text": [
      "*****************************************\n",
      "    SOURCE: \"I cannot proceed without some investigation into what has been asserted, and evidence of its truth or falsehood.\"\n",
      "    TARGET: «Je ne puis pas continuer avant d'avoir examiné ce qui vient d'être dit.\n",
      " PREDICTED: – Je ne puis aller sans nécessité de comprendre quoi faire qui a apparence , et de sa réalité ou de mensonge .\n",
      "*****************************************\n",
      "\n",
      "*****************************************\n",
      "    SOURCE: Hans pointed with his finger at a dark mass six hundred yards away, rising and falling alternately with heavy plunges.\n",
      "    TARGET: Hans montre du doigt, à une distance de deux cents toises, une masse noirâtre qui s'élève et s'abaisse tour à tour.\n",
      " PREDICTED: Hans montrait au doigt une masse sombre de six cents yards au pas , qui se releva et se de laquais .\n",
      "*****************************************\n",
      "\n",
      "Epoch 37: train_loss=1.7227\n"
     ]
    },
    {
     "data": {
      "application/vnd.jupyter.widget-view+json": {
       "model_id": "",
       "version_major": 2,
       "version_minor": 0
      },
      "text/plain": [
       "Validation: 0it [00:00, ?it/s]"
      ]
     },
     "metadata": {},
     "output_type": "display_data"
    },
    {
     "name": "stdout",
     "output_type": "stream",
     "text": [
      "*****************************************\n",
      "    SOURCE: Mme. Roland had not emptied her glass and was gazing at her son Jeanwith sparkling eyes; happiness had brought a colour to her cheeks.\n",
      "    TARGET: Mme Roland n'avait point vidé son premier verre, et, rose de bonheur, leregard brillant, elle contemplait son fils Jean.\n",
      " PREDICTED: Mme Roland n ' avait pas vidé son verre et regardait son fils ses yeux vifs , car le bonheur lui avait fait des joues .\n",
      "*****************************************\n",
      "\n",
      "*****************************************\n",
      "    SOURCE: \"In the Mediterranean!\" I exclaimed.\n",
      "    TARGET: -- Dans la Méditerranée ! m'écriai-je.\n",
      " PREDICTED: -- Dans la Méditerranée ? m ' écriai - je .\n",
      "*****************************************\n",
      "\n",
      "Epoch 38: train_loss=1.7922\n"
     ]
    },
    {
     "data": {
      "application/vnd.jupyter.widget-view+json": {
       "model_id": "",
       "version_major": 2,
       "version_minor": 0
      },
      "text/plain": [
       "Validation: 0it [00:00, ?it/s]"
      ]
     },
     "metadata": {},
     "output_type": "display_data"
    },
    {
     "name": "stdout",
     "output_type": "stream",
     "text": [
      "*****************************************\n",
      "    SOURCE: His faith in the engineer was complete; nothing could disturb it.\n",
      "    TARGET: Sa foi dans l'ingénieur était absolue. Rien n'eût pu la troubler.\n",
      " PREDICTED: Sa foi , en l ' ingénieur était complète , rien ne la .\n",
      "*****************************************\n",
      "\n",
      "*****************************************\n",
      "    SOURCE: He had rested his elbow upon the open volume of Honorius d'Autun, ~De predestinatione et libero arbitrio~, and he was turning over, in deep meditation, the leaves of a printed folio which he had just brought, the sole product of the press which his cell contained.\n",
      "    TARGET: Il avait appuyé son coude sur le livre tout grand ouvert d’Honorius d’Autun, De prædestinatione et libero arbitrio, et il feuilletait avec une réflexion profonde un in-folio imprimé qu’il venait d’apporter, le seul produit de la presse que renfermât sa cellule.\n",
      " PREDICTED: Il avait son coude sur la rive ouverte de d ’ Autun , à et à ; il fut par - dessus , dans une profonde méditation , il venait de faire apporter un tableau au - dessous de la porté , le produit de la presse .\n",
      "*****************************************\n",
      "\n",
      "Epoch 39: train_loss=1.8174\n"
     ]
    },
    {
     "name": "stderr",
     "output_type": "stream",
     "text": [
      "`Trainer.fit` stopped: `max_epochs=40` reached.\n",
      "LOCAL_RANK: 0 - CUDA_VISIBLE_DEVICES: [0]\n",
      "C:\\Users\\rohit\\anaconda3\\envs\\tf\\lib\\site-packages\\pytorch_lightning\\trainer\\connectors\\data_connector.py:480: PossibleUserWarning: Your `test_dataloader`'s sampler has shuffling enabled, it is strongly recommended that you turn shuffling off for val/test dataloaders.\n",
      "  rank_zero_warn(\n",
      "C:\\Users\\rohit\\anaconda3\\envs\\tf\\lib\\site-packages\\pytorch_lightning\\trainer\\connectors\\data_connector.py:432: PossibleUserWarning: The dataloader, test_dataloader, does not have many workers which may be a bottleneck. Consider increasing the value of the `num_workers` argument` (try 12 which is the number of cpus on this machine) in the `DataLoader` init to improve performance.\n",
      "  rank_zero_warn(\n"
     ]
    },
    {
     "data": {
      "application/vnd.jupyter.widget-view+json": {
       "model_id": "6641e56872b3434c8747d3488a69b694",
       "version_major": 2,
       "version_minor": 0
      },
      "text/plain": [
       "Testing: 0it [00:00, ?it/s]"
      ]
     },
     "metadata": {},
     "output_type": "display_data"
    },
    {
     "name": "stdout",
     "output_type": "stream",
     "text": [
      "*****************************************\n",
      "    SOURCE: \"Yes, I see,\" Ned replied, growing more interested. \"Because the water surrounds me but doesn't penetrate me.\"\n",
      "    TARGET: -- Oui, je comprends, répondit Ned, devenu plus attentif, parce que l'eau m'entoure et ne me pénètre pas.\n",
      " PREDICTED: -- Oui , je le vois , répondit Ned , mais l ' eau qui m ' entoure , mais qui ne me tourmente pas .\n",
      "*****************************************\n",
      "\n",
      "*****************************************\n",
      "    SOURCE: She held out her tin to him.\n",
      "    TARGET: Et elle lui tendit sa gourde.\n",
      " PREDICTED: Elle lui tendit sa gourde .\n",
      "*****************************************\n",
      "\n"
     ]
    },
    {
     "data": {
      "text/plain": [
       "<pytorch_lightning.trainer.trainer.Trainer at 0x221497ec970>"
      ]
     },
     "execution_count": 11,
     "metadata": {},
     "output_type": "execute_result"
    }
   ],
   "source": [
    "train_transformer(transformer_model, opus_fr, cfg, epochs=cfg['num_epochs'])"
   ]
  },
  {
   "cell_type": "markdown",
   "metadata": {},
   "source": [
    "### Sample Predictions using the trained model"
   ]
  },
  {
   "cell_type": "code",
   "execution_count": 15,
   "metadata": {},
   "outputs": [],
   "source": [
    "def encode_input_sentence(input, tokenizer_src, max_seq_len) -> torch.tensor:\n",
    "    encoder_input_tokens = tokenizer_src.encode(input).ids\n",
    "    sos_token = torch.tensor([tokenizer_src.token_to_id(\"[SOS]\")], dtype=torch.int64)\n",
    "    eos_token = torch.tensor([tokenizer_src.token_to_id(\"[EOS]\")], dtype=torch.int64)\n",
    "    pad_token = torch.tensor([tokenizer_src.token_to_id(\"[PAD]\")], dtype=torch.int64)\n",
    "    # Add sos, eos and padding to each sentence\n",
    "    enc_num_padding_tokens = max_seq_len - len(encoder_input_tokens) - 2 # we will add <s> and </s>\n",
    "\n",
    "    encoder_input = torch.cat(\n",
    "        [\n",
    "            sos_token,\n",
    "            torch.tensor(encoder_input_tokens, dtype=torch.int64),\n",
    "            eos_token,\n",
    "            torch.tensor([pad_token]*enc_num_padding_tokens, dtype=torch.int64)\n",
    "        ],\n",
    "        dim = 0)\n",
    "    encoder_mask = (encoder_input != pad_token).unsqueeze(0).unsqueeze(0).int()\n",
    "    return encoder_input, encoder_mask\n",
    "\n",
    "def translate_en_to_fr(input, opus_dm, cfg):\n",
    "    encoder_input, encoder_mask = encode_input_sentence(input, opus_dm.tokenizer_src, cfg['seq_len'])\n",
    "    output = transformer_model.greedy_decode(encoder_input, encoder_mask)\n",
    "    model_out_text = opus_dm.tokenizer_tgt.decode(output.detach().cpu().numpy())\n",
    "    return model_out_text"
   ]
  },
  {
   "cell_type": "code",
   "execution_count": 16,
   "metadata": {},
   "outputs": [
    {
     "name": "stdout",
     "output_type": "stream",
     "text": [
      "La résolution bien les un peu les calma un peu .\n"
     ]
    }
   ],
   "source": [
    "input = \"The firm resolution to commit another murder somewhat calmed them.\"\n",
    "output = translate_en_to_fr(input, opus_fr, cfg)\n",
    "\n",
    "print(output)"
   ]
  },
  {
   "cell_type": "markdown",
   "metadata": {},
   "source": [
    "### Logs in TensorBoard"
   ]
  },
  {
   "cell_type": "code",
   "execution_count": 17,
   "metadata": {},
   "outputs": [
    {
     "data": {
      "text/html": [
       "\n",
       "      <iframe id=\"tensorboard-frame-b552b6598b6e53d1\" width=\"100%\" height=\"800\" frameborder=\"0\">\n",
       "      </iframe>\n",
       "      <script>\n",
       "        (function() {\n",
       "          const frame = document.getElementById(\"tensorboard-frame-b552b6598b6e53d1\");\n",
       "          const url = new URL(\"/\", window.location);\n",
       "          const port = 6006;\n",
       "          if (port) {\n",
       "            url.port = port;\n",
       "          }\n",
       "          frame.src = url;\n",
       "        })();\n",
       "      </script>\n",
       "    "
      ],
      "text/plain": [
       "<IPython.core.display.HTML object>"
      ]
     },
     "metadata": {},
     "output_type": "display_data"
    }
   ],
   "source": [
    "\n",
    "%load_ext tensorboard\n",
    "%tensorboard --logdir='runs'"
   ]
  },
  {
   "cell_type": "code",
   "execution_count": null,
   "metadata": {},
   "outputs": [],
   "source": []
  }
 ],
 "metadata": {
  "colab": {
   "gpuType": "T4",
   "include_colab_link": true,
   "provenance": []
  },
  "kernelspec": {
   "display_name": "tf",
   "language": "python",
   "name": "tf"
  },
  "language_info": {
   "codemirror_mode": {
    "name": "ipython",
    "version": 3
   },
   "file_extension": ".py",
   "mimetype": "text/x-python",
   "name": "python",
   "nbconvert_exporter": "python",
   "pygments_lexer": "ipython3",
   "version": "3.9.17"
  }
 },
 "nbformat": 4,
 "nbformat_minor": 1
}
